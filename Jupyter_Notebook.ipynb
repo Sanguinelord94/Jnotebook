{
 "cells": [
  {
   "cell_type": "markdown",
   "metadata": {},
   "source": [
    "<center>\n",
    "    <img src=\"https://cf-courses-data.s3.us.cloud-object-storage.appdomain.cloud/IBMDeveloperSkillsNetwork-DS0105EN-SkillsNetwork/labs/Module2/images/SN_web_lightmode.png\" width=\"300\" alt=\"cognitiveclass.ai logo\">\n",
    "</center>\n"
   ]
  },
  {
   "cell_type": "markdown",
   "metadata": {},
   "source": [
    "# Data Science Libraries \n",
    "\n",
    "This notebook provides a list of popular data science libraries across various programming languages."
   ]
  },
  {
   "cell_type": "markdown",
   "metadata": {},
   "source": [
    "Introducing Jupyter Notebooks: A Powerful Tool for Data Science and Beyond"
   ]
  },
  {
   "cell_type": "markdown",
   "metadata": {},
   "source": [
    "## Introduction\n",
    "\n",
    "Data science has become an integral part of many fields, from business and finance to healthcare and research. This field relies heavily on a variety of powerful programming languages and libraries to handle the complexities of data collection, processing, analysis, and visualization. \n",
    "\n",
    "This notebook aims to provide an overview of some of the most popular data science libraries across different programming languages."
   ]
  },
  {
   "cell_type": "markdown",
   "metadata": {},
   "source": [
    "## Data Science Languages\n",
    "\n",
    "* Python\n",
    "* R\n",
    "* SQL\n",
    "* Java\n",
    "* Julia\n",
    "* Scala\n",
    "* C/C++ "
   ]
  },
  {
   "cell_type": "markdown",
   "metadata": {},
   "source": [
    "# Popular Data Science Libraries\n",
    "\n",
    "## Python\n",
    "- **Data Manipulation:** Pandas, NumPy\n",
    "- **Machine Learning:** scikit-learn, TensorFlow, PyTorch\n",
    "- **Data Visualization:** Matplotlib, Seaborn, Plotly\n",
    "- **Deep Learning:** TensorFlow, PyTorch, Keras\n",
    "\n",
    "## R\n",
    "- **Data Manipulation:** dplyr, tidyr\n",
    "- **Statistical Computing:** R base packages, statsmodels\n",
    "- **Data Visualization:** ggplot2\n",
    "\n",
    "## SQL\n",
    "- **Data Warehousing:** Hive, Presto\n",
    "- **Data Processing:** Spark SQL\n",
    "\n",
    "## Java\n",
    "- **Big Data:** Hadoop, Spark\n",
    "- **Machine Learning:** Deeplearning4j\n",
    "\n",
    "## Julia\n",
    "- **Scientific Computing:** Julia Base, DifferentialEquations\n",
    "- **Machine Learning:** Flux, MLJ\n",
    "\n",
    "## Scala\n",
    "- **Big Data:** Spark\n",
    "\n",
    "## C/C++\n",
    "- **Deep Learning:** TensorFlow, PyTorch (core libraries)"
   ]
  },
  {
   "cell_type": "markdown",
   "metadata": {},
   "source": [
    "| Tool             | Description                                   |\n",
    "|------------------|-----------------------------------------------|\n",
    "| Python           | A programming language widely used for data analysis and machine learning. |\n",
    "| R                | A language designed for statistical computing and graphics. |\n",
    "| SQL              | A language used for managing and querying relational databases. |\n",
    "| Tableau          | A data visualization tool that helps to create interactive and shareable dashboards. |\n",
    "| Apache Spark     | An open-source framework for big data processing and analytics. |\n",
    "| Jupyter Notebook  | An open-source web application that allows creating and sharing documents containing live code, equations, visualizations, and narrative text. |\n",
    "| TensorFlow       | An open-source library for numerical computation and machine learning. |\n",
    "| Power BI         | A business analytics tool that provides interactive visualizations and business intelligence capabilities. |"
   ]
  },
  {
   "cell_type": "markdown",
   "metadata": {},
   "source": [
    "## Arithmetic Expressions in Python\n",
    "\n",
    "This notebook will demonstrate some basic arithmetic expressions in Python. Arithmetic expressions involve mathematical operations like addition, subtraction, multiplication, and division. \n",
    "\n",
    "We'll explore how to perform these operations using Python and how to use parentheses to control the order of operations."
   ]
  },
  {
   "cell_type": "code",
   "execution_count": 32,
   "metadata": {},
   "outputs": [
    {
     "name": "stdout",
     "output_type": "stream",
     "text": [
      "The result of 5 multiplied by the sum of 2 and 6 is: 40\n"
     ]
    }
   ],
   "source": [
    "# Calculate the result of the expression 5 * (2 + 6)\n",
    "\n",
    "result = 5 * (2 + 6)\n",
    "\n",
    "# Print the result with a descriptive message\n",
    "print(f\"The result of 5 multiplied by the sum of 2 and 6 is: {result}\") "
   ]
  },
  {
   "cell_type": "code",
   "execution_count": 22,
   "metadata": {},
   "outputs": [
    {
     "name": "stdout",
     "output_type": "stream",
     "text": [
      "180 minutes is equal to 3.0 hours.\n"
     ]
    }
   ],
   "source": [
    "# Convert minutes to hours\n",
    "\n",
    "minutes = 180\n",
    "hours = minutes / 60\n",
    "\n",
    "print(f\"{minutes} minutes is equal to {hours} hours.\")"
   ]
  },
  {
   "cell_type": "markdown",
   "metadata": {},
   "source": [
    "## Objectives\n",
    "\n",
    "* Demonstrate understanding of basic Markdown syntax.\n",
    "* Create a Jupyter Notebook with various cell types (Markdown and Code).\n",
    "* Implement basic arithmetic operations in Python.\n",
    "* Convert units (minutes to hours) using Python code.\n",
    "* List popular data science languages and libraries.\n",
    "* Share the notebook through GitHub."
   ]
  },
  {
   "cell_type": "markdown",
   "metadata": {},
   "source": [
    "#### Author: Aaron.M"
   ]
  },
  {
   "cell_type": "code",
   "execution_count": null,
   "metadata": {},
   "outputs": [],
   "source": []
  }
 ],
 "metadata": {
  "kernelspec": {
   "display_name": "Python 3 (ipykernel)",
   "language": "python",
   "name": "python3"
  },
  "language_info": {
   "codemirror_mode": {
    "name": "ipython",
    "version": 3
   },
   "file_extension": ".py",
   "mimetype": "text/x-python",
   "name": "python",
   "nbconvert_exporter": "python",
   "pygments_lexer": "ipython3",
   "version": "3.12.8"
  }
 },
 "nbformat": 4,
 "nbformat_minor": 4
}
